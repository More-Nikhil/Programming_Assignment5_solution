{
 "cells": [
  {
   "cell_type": "markdown",
   "id": "cdde0aff-6fd1-4f15-afed-d5213df96ad1",
   "metadata": {},
   "source": [
    "1. Write a Python Program to Find LCM"
   ]
  },
  {
   "cell_type": "code",
   "execution_count": 4,
   "id": "37d4a1fa-cf9c-48f9-9042-19ceefc7e5b4",
   "metadata": {},
   "outputs": [
    {
     "name": "stdout",
     "output_type": "stream",
     "text": [
      "The L.C.M. is 1350\n"
     ]
    }
   ],
   "source": [
    "def Calculate_lcm(x, y):\n",
    "\n",
    "    if x > y:\n",
    "        greater = x\n",
    "    else:\n",
    "        greater = y\n",
    "\n",
    "    while(True):\n",
    "        if((greater % x == 0) and (greater % y == 0)):\n",
    "            lcm = greater\n",
    "            break\n",
    "        greater += 1\n",
    "\n",
    "    return lcm\n",
    "\n",
    "num1 = 54\n",
    "num2 = 25\n",
    "\n",
    "print(\"The L.C.M. is\", Calculate_lcm(num1, num2))"
   ]
  },
  {
   "cell_type": "markdown",
   "id": "c36a87d7-b38e-4791-aee4-8cb3dc0a5ea2",
   "metadata": {},
   "source": [
    "2. Write a Python Program to Find HCF?"
   ]
  },
  {
   "cell_type": "code",
   "execution_count": 12,
   "id": "0488486f-12e7-4dfc-acb8-e549489e2b7c",
   "metadata": {},
   "outputs": [
    {
     "name": "stdout",
     "output_type": "stream",
     "text": [
      "The H.C.M. is 6\n"
     ]
    }
   ],
   "source": [
    "def Calculate_hcm(x, y):\n",
    "\n",
    "    if x < y:\n",
    "        smaller = x\n",
    "    else:\n",
    "        smaller = y\n",
    "\n",
    "    for i in range (1,smaller+1):\n",
    "        if ((x%i==0) and (y%i==0)):\n",
    "            hcf = i\n",
    "    return hcf\n",
    "\n",
    "num1 = 54\n",
    "num2 = 24\n",
    "\n",
    "print(\"The H.C.M. is\", Calculate_hcm(num1, num2))"
   ]
  },
  {
   "cell_type": "markdown",
   "id": "c45438c0-d62b-4a56-8033-65db838b7a17",
   "metadata": {},
   "source": [
    "3. Write a Python Program to Convert Decimal to Binary, Octal and Hexadecimal?"
   ]
  },
  {
   "cell_type": "code",
   "execution_count": 14,
   "id": "8bb72b05-7cd4-4f0e-be87-c634d819553c",
   "metadata": {},
   "outputs": [],
   "source": [
    "def decimalToBinary(num):\n",
    "\n",
    "    return bin(num).replace(\"0b\", \"\")\n",
    "\n",
    "def decimalToOctal(num):\n",
    "\n",
    "    return oct(num).replace(\"0o\", \"\")\n",
    "\n",
    "def decimalToHexadecimal(num):\n",
    "\n",
    "    return hex(num).replace(\"0x\", \"\")"
   ]
  },
  {
   "cell_type": "code",
   "execution_count": 16,
   "id": "7f5eb74e-a6c4-49ee-aca2-5b52681c32d0",
   "metadata": {},
   "outputs": [
    {
     "data": {
      "text/plain": [
       "'21'"
      ]
     },
     "execution_count": 16,
     "metadata": {},
     "output_type": "execute_result"
    }
   ],
   "source": [
    "decimalToOctal(17)"
   ]
  },
  {
   "cell_type": "code",
   "execution_count": 17,
   "id": "c15f16b5-29ee-4ebc-ab43-a44ce7d6ebbe",
   "metadata": {},
   "outputs": [
    {
     "data": {
      "text/plain": [
       "'11'"
      ]
     },
     "execution_count": 17,
     "metadata": {},
     "output_type": "execute_result"
    }
   ],
   "source": [
    "decimalToHexadecimal(17)"
   ]
  },
  {
   "cell_type": "code",
   "execution_count": 15,
   "id": "bba04f4e-4446-4487-877a-554f37c56aca",
   "metadata": {},
   "outputs": [
    {
     "data": {
      "text/plain": [
       "'10001'"
      ]
     },
     "execution_count": 15,
     "metadata": {},
     "output_type": "execute_result"
    }
   ],
   "source": [
    "decimalToBinary(17)"
   ]
  },
  {
   "cell_type": "markdown",
   "id": "bee7407f-d056-4098-a174-8790b2f420ed",
   "metadata": {},
   "source": [
    "4. Write a Python Program To Find ASCII value of a character?"
   ]
  },
  {
   "cell_type": "code",
   "execution_count": null,
   "id": "54a262d2-19a5-4894-8a3f-467b9d7513b9",
   "metadata": {},
   "outputs": [],
   "source": [
    "character = input(\"Give Character\")\n",
    "print(\"ASCII value of character \", character , \"is \", ord(character))"
   ]
  },
  {
   "cell_type": "markdown",
   "id": "3a5943eb-aec8-4f12-a406-45e6fdd255ab",
   "metadata": {},
   "source": [
    "5. Write a Python Program to Make a Simple Calculator with 4 basic mathematical operations?"
   ]
  },
  {
   "cell_type": "code",
   "execution_count": 21,
   "id": "db4d4a07-e36d-4376-bcc9-49ee45eff948",
   "metadata": {},
   "outputs": [
    {
     "name": "stdin",
     "output_type": "stream",
     "text": [
      "Enter first value: 26\n",
      "Enter first value: 53\n",
      "Enter which operation you want to perform, '+', '-', '*', '/':  *\n"
     ]
    },
    {
     "name": "stdout",
     "output_type": "stream",
     "text": [
      "Multiplication of 26 and 53 is  1378\n"
     ]
    }
   ],
   "source": [
    "x=int(input(\"Enter first value:\"))\n",
    "y=int(input(\"Enter first value:\"))\n",
    "Enter = input(\"Enter which operation you want to perform, '+', '-', '*', '/': \")\n",
    "\n",
    "if Enter == '+':\n",
    "    print(f\"Addition of {x} and {y} is \", x+y)\n",
    "elif Enter == '-':\n",
    "    print(f\"Substraction of {x} and {y} is \", x-y)\n",
    "\n",
    "elif Enter == '*':\n",
    "    print(f\"Multiplication of {x} and {y} is \", x*y)\n",
    "    \n",
    "elif Enter == '/':\n",
    "    print(f\"Devision of {x} and {y} is \", x/y)"
   ]
  }
 ],
 "metadata": {
  "kernelspec": {
   "display_name": "Python 3 (ipykernel)",
   "language": "python",
   "name": "python3"
  },
  "language_info": {
   "codemirror_mode": {
    "name": "ipython",
    "version": 3
   },
   "file_extension": ".py",
   "mimetype": "text/x-python",
   "name": "python",
   "nbconvert_exporter": "python",
   "pygments_lexer": "ipython3",
   "version": "3.10.6"
  }
 },
 "nbformat": 4,
 "nbformat_minor": 5
}
